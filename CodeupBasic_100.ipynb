{
 "cells": [
  {
   "cell_type": "markdown",
   "metadata": {},
   "source": [
    "# Codeup Basic 100\n",
    "-> https://codeup.kr/problemsetsol.php?psid=23  \n",
    "\n",
    "#### Start date: Wednesday 30 December 2020"
   ]
  },
  {
   "cell_type": "markdown",
   "metadata": {},
   "source": [
    "<font color=red>No. 1001 : [기초-출력] 출력하기01</font>"
   ]
  },
  {
   "cell_type": "code",
   "execution_count": 1,
   "metadata": {},
   "outputs": [
    {
     "name": "stdout",
     "output_type": "stream",
     "text": [
      "Hello\n"
     ]
    }
   ],
   "source": [
    "# No. 1001 : [기초-출력] 출력하기01\n",
    "print(\"Hello\")"
   ]
  },
  {
   "cell_type": "markdown",
   "metadata": {},
   "source": [
    "<font color=red>No. 1002 : [기초-출력] 출력하기02</font>"
   ]
  },
  {
   "cell_type": "code",
   "execution_count": 2,
   "metadata": {},
   "outputs": [
    {
     "name": "stdout",
     "output_type": "stream",
     "text": [
      "Hello World\n"
     ]
    }
   ],
   "source": [
    "# No. 1002 : [기초-출력] 출력하기02\n",
    "print(\"Hello World\")"
   ]
  },
  {
   "cell_type": "markdown",
   "metadata": {},
   "source": [
    "<font color=red>No. 1003 : [기초-출력] 출력하기03</font>"
   ]
  },
  {
   "cell_type": "code",
   "execution_count": 3,
   "metadata": {},
   "outputs": [
    {
     "name": "stdout",
     "output_type": "stream",
     "text": [
      "Hello\n",
      "World\n"
     ]
    }
   ],
   "source": [
    "# No. 1003 : [기초-출력] 출력하기03\n",
    "print(\"Hello\\nWorld\")"
   ]
  },
  {
   "cell_type": "markdown",
   "metadata": {},
   "source": [
    "<font color=red>No. 1004 : [기초-출력] 출력하기04</font>"
   ]
  },
  {
   "cell_type": "code",
   "execution_count": 4,
   "metadata": {},
   "outputs": [
    {
     "name": "stdout",
     "output_type": "stream",
     "text": [
      "'Hello'\n"
     ]
    }
   ],
   "source": [
    "# No. 1004 : [기초-출력] 출력하기04\n",
    "print(\"\\'Hello\\'\")"
   ]
  },
  {
   "cell_type": "markdown",
   "metadata": {},
   "source": [
    "<font color=red>No. 1005 : [기초-출력] 출력하기05</font>"
   ]
  },
  {
   "cell_type": "code",
   "execution_count": 5,
   "metadata": {},
   "outputs": [
    {
     "name": "stdout",
     "output_type": "stream",
     "text": [
      "\"Hello World\"\n"
     ]
    }
   ],
   "source": [
    "# No. 1005 : [기초-출력] 출력하기05\n",
    "print(\"\\\"Hello World\\\"\")"
   ]
  },
  {
   "cell_type": "markdown",
   "metadata": {},
   "source": [
    "<font color=red>No. 1006 : [기초-출력] 출력하기06</font>"
   ]
  },
  {
   "cell_type": "code",
   "execution_count": 6,
   "metadata": {},
   "outputs": [
    {
     "name": "stdout",
     "output_type": "stream",
     "text": [
      "\"!@#$%^&*()\"\n"
     ]
    }
   ],
   "source": [
    "# No. 1006 : [기초-출력] 출력하기06\n",
    "print(\"\\\"!@#$%^&*()\\\"\")"
   ]
  },
  {
   "cell_type": "markdown",
   "metadata": {},
   "source": [
    "<font color=red>No. 1007 : [기초-출력] 출력하기07</font>"
   ]
  },
  {
   "cell_type": "code",
   "execution_count": 7,
   "metadata": {},
   "outputs": [
    {
     "name": "stdout",
     "output_type": "stream",
     "text": [
      "\"C:\\Download\\hello.cpp\"\n"
     ]
    }
   ],
   "source": [
    "# No. 1007 : [기초-출력] 출력하기07\n",
    "print(\"\\\"C:\\Download\\hello.cpp\\\"\")"
   ]
  },
  {
   "cell_type": "markdown",
   "metadata": {},
   "source": [
    "<font color=red>No. 1008 : [기초-출력] 출력하기08</font>"
   ]
  },
  {
   "cell_type": "code",
   "execution_count": 8,
   "metadata": {},
   "outputs": [
    {
     "name": "stdout",
     "output_type": "stream",
     "text": [
      "┌┬┐\n",
      "├┼┤\n",
      "└┴┘\n"
     ]
    }
   ],
   "source": [
    "# No. 1008 : [기초-출력] 출력하기08\n",
    "print(\"\\u250C\\u252C\\u2510\\n\\u251C\\u253C\\u2524\\n\\u2514\\u2534\\u2518\")"
   ]
  },
  {
   "cell_type": "markdown",
   "metadata": {},
   "source": [
    "<font color=red>No. 1010 : [기초-입출력] 정수 1개 입력받아 그대로 출력하기</font>"
   ]
  },
  {
   "cell_type": "code",
   "execution_count": 9,
   "metadata": {},
   "outputs": [
    {
     "name": "stdout",
     "output_type": "stream",
     "text": [
      "5\n",
      "5\n"
     ]
    }
   ],
   "source": [
    "# No. 1010 : [기초-입출력] 정수 1개 입력받아 그대로 출력하기\n",
    "n = int(input())\n",
    "print(n)"
   ]
  },
  {
   "cell_type": "markdown",
   "metadata": {},
   "source": [
    "<font color=red>No. 1011 : [기초-입출력] 문자 1개 입력받아 그대로 출력하기</font>"
   ]
  },
  {
   "cell_type": "code",
   "execution_count": 10,
   "metadata": {},
   "outputs": [
    {
     "name": "stdout",
     "output_type": "stream",
     "text": [
      "a\n",
      "a\n"
     ]
    }
   ],
   "source": [
    "# No. 1011 : [기초-입출력] 문자 1개 입력받아 그대로 출력하기\n",
    "c = str(input())\n",
    "print(c)"
   ]
  },
  {
   "cell_type": "markdown",
   "metadata": {},
   "source": [
    "<font color=red>No. 1012 : [기초-입출력] 실수 1개 입력받아 그대로 출력하기</font>"
   ]
  },
  {
   "cell_type": "code",
   "execution_count": 11,
   "metadata": {},
   "outputs": [
    {
     "name": "stdout",
     "output_type": "stream",
     "text": [
      "1.5\n",
      "1.5\n"
     ]
    }
   ],
   "source": [
    "# No. 1012 : [기초-입출력] 실수 1개 입력받아 그대로 출력하기\n",
    "f = float(input())\n",
    "print(f)"
   ]
  },
  {
   "cell_type": "markdown",
   "metadata": {},
   "source": [
    "<font color=red>No. 1013 : [기초-입출력] 정수 2개 입력받아 그대로 출력하기</font>"
   ]
  },
  {
   "cell_type": "code",
   "execution_count": 12,
   "metadata": {},
   "outputs": [
    {
     "name": "stdout",
     "output_type": "stream",
     "text": [
      "3 4\n",
      "3 4\n"
     ]
    }
   ],
   "source": [
    "# No. 1013 : [기초-입출력] 정수 2개 입력받아 그대로 출력하기\n",
    "a, b = map(int, input().split())\n",
    "print(a, b)"
   ]
  },
  {
   "cell_type": "markdown",
   "metadata": {},
   "source": [
    "<font color=red>No. 1014 : [기초-입출력] 문자 2개 입력받아 순서 바꿔 출력하기</font>"
   ]
  },
  {
   "cell_type": "code",
   "execution_count": 2,
   "metadata": {},
   "outputs": [
    {
     "name": "stdout",
     "output_type": "stream",
     "text": [
      "A b\n",
      "b A\n"
     ]
    }
   ],
   "source": [
    "# 21.1.1\n",
    "# No. 1014 : [기초-입출력] 문자 2개 입력받아 순서 바꿔 출력하기\n",
    "a, b = input().split()\n",
    "print(b, a)"
   ]
  },
  {
   "cell_type": "markdown",
   "metadata": {},
   "source": [
    "<font color=red>No. 1015 : [기초-입출력] 실수 입력받아 둘째 자리까지 출력하기</font>"
   ]
  },
  {
   "cell_type": "code",
   "execution_count": 30,
   "metadata": {},
   "outputs": [
    {
     "name": "stdout",
     "output_type": "stream",
     "text": [
      "3.149\n",
      "3.15\n",
      "3.15\n"
     ]
    }
   ],
   "source": [
    "# No. 1015 : [기초-입출력] 실수 입력받아 둘째 자리까지 출력하기\n",
    "f = float(input())\n",
    "print(round(f,2))\n",
    "print('%.2f'%f)"
   ]
  },
  {
   "cell_type": "markdown",
   "metadata": {},
   "source": [
    "<font color=red>No. 1017 : [기초-입출력] 정수 1개 입력받아 3번 출력하기</font>"
   ]
  },
  {
   "cell_type": "code",
   "execution_count": 10,
   "metadata": {},
   "outputs": [
    {
     "name": "stdout",
     "output_type": "stream",
     "text": [
      "125\n",
      "125 125 125\n"
     ]
    }
   ],
   "source": [
    "# No. 1017 : [기초-입출력] 정수 1개 입력받아 3번 출력하기\n",
    "n = int(input())\n",
    "print(n, n, n)"
   ]
  },
  {
   "cell_type": "markdown",
   "metadata": {},
   "source": [
    "<font color=red>No. 1018 : [기초-입출력] 시간 입력받아 그대로 출력하기</font>"
   ]
  },
  {
   "cell_type": "code",
   "execution_count": 33,
   "metadata": {},
   "outputs": [
    {
     "name": "stdout",
     "output_type": "stream",
     "text": [
      "3:16\n",
      "3:16\n",
      "3:16\n"
     ]
    }
   ],
   "source": [
    "# No. 1018 : [기초-입출력] 시간 입력받아 그대로 출력하기\n",
    "h, m = map(int, input().split(\":\"))\n",
    "print(str(h)+\":\"+str(m))\n",
    "print('%d:%d' % (h, m))"
   ]
  },
  {
   "cell_type": "markdown",
   "metadata": {},
   "source": [
    "<font color=red>No. 1019 : [기초-입출력] 시간 입력받아 그대로 출력하기</font>"
   ]
  },
  {
   "cell_type": "code",
   "execution_count": 35,
   "metadata": {},
   "outputs": [
    {
     "name": "stdout",
     "output_type": "stream",
     "text": [
      "2021.1.2\n",
      "2021.01.02\n",
      "2021.01.02\n"
     ]
    }
   ],
   "source": [
    "# No. 1019 : [기초-입출력] 시간 입력받아 그대로 출력하기\n",
    "y, m, d = map(int, input().split(\".\"))\n",
    "print(str(y) + \".\" +'%02d' % m + \".\" + '%02d' % d)\n",
    "print('%d.%02d.%0.2d' % (y, m, d))"
   ]
  },
  {
   "cell_type": "markdown",
   "metadata": {},
   "source": [
    "<font color=red>No. 1020 : [기초-입출력] 주민번호 입력받아 형태 바꿔 출력하기</font>"
   ]
  },
  {
   "cell_type": "code",
   "execution_count": 21,
   "metadata": {},
   "outputs": [
    {
     "name": "stdout",
     "output_type": "stream",
     "text": [
      "000907-1121112\n",
      "0009071121112\n"
     ]
    }
   ],
   "source": [
    "# No. 1020 : [기초-입출력] 주민번호 입력받아 형태 바꿔 출력하기\n",
    "frontNum, backNum = input().split(\"-\")\n",
    "print(frontNum + backNum)"
   ]
  },
  {
   "cell_type": "markdown",
   "metadata": {},
   "source": [
    "<font color=red>No. 1021 : [기초-입출력] 단어 1개 입력받아 그대로 출력하기</font>"
   ]
  },
  {
   "cell_type": "code",
   "execution_count": 17,
   "metadata": {},
   "outputs": [
    {
     "name": "stdout",
     "output_type": "stream",
     "text": [
      "Informatics\n",
      "Informatics\n"
     ]
    }
   ],
   "source": [
    "# No. 1021 : [기초-입출력] 단어 1개 입력받아 그대로 출력하기\n",
    "word = input()\n",
    "print(word)"
   ]
  },
  {
   "cell_type": "markdown",
   "metadata": {},
   "source": [
    "<font color=red>No. 1022 : [기초-입출력] 문장 1개 입력받아 그대로 출력하기</font>"
   ]
  },
  {
   "cell_type": "code",
   "execution_count": 1,
   "metadata": {},
   "outputs": [
    {
     "name": "stdout",
     "output_type": "stream",
     "text": [
      "Programming is very fun!!\n",
      "Programming is very fun!!\n"
     ]
    }
   ],
   "source": [
    "## 21.1.8(금)\n",
    "# No. 1022 : [기초-입출력] 문장 1개 입력받아 그대로 출력하기\n",
    "sentence = input()\n",
    "print(sentence)"
   ]
  },
  {
   "cell_type": "markdown",
   "metadata": {},
   "source": [
    "<font color=red>No. 1023 : [기초-입출력] 실수 1개 입력받아 부분별로 출력하기</font>"
   ]
  },
  {
   "cell_type": "code",
   "execution_count": 50,
   "metadata": {},
   "outputs": [
    {
     "name": "stdout",
     "output_type": "stream",
     "text": [
      "1.414213\n",
      "1\n",
      "414213\n"
     ]
    }
   ],
   "source": [
    "# No. 1023 : [기초-입출력] 실수 1개 입력받아 부분별로 출력하기\n",
    "real, integer = map(int,input().split(\".\"))\n",
    "print(str(real)+\"\\n\"+str(integer))\n",
    "\n",
    "## 참고: data = [int(x) for x in input().split('.')]"
   ]
  },
  {
   "cell_type": "markdown",
   "metadata": {},
   "source": [
    "<font color=red>No. 1024 : [기초-입출력] 단어 1개 입력받아 나누어 출력하기</font>"
   ]
  },
  {
   "cell_type": "code",
   "execution_count": 52,
   "metadata": {},
   "outputs": [
    {
     "name": "stdout",
     "output_type": "stream",
     "text": [
      "Boy\n",
      "'B'\n",
      "'o'\n",
      "'y'\n"
     ]
    },
    {
     "data": {
      "text/plain": [
       "' \\n참고\\n\\ndata = input()\\nfor i in data:\\n    print(\"\\'\"+i+\"\\'\") \\n'"
      ]
     },
     "execution_count": 52,
     "metadata": {},
     "output_type": "execute_result"
    }
   ],
   "source": [
    "# No. 1024 : [기초-입출력] 단어 1개 입력받아 나누어 출력하기\n",
    "word = input()\n",
    "for i in range(len(word)) :\n",
    "    print(\"'\"+word[i]+\"'\")\n",
    "''' \n",
    "참고\n",
    "\n",
    "data = input()\n",
    "for i in data:\n",
    "    print(\"'\"+i+\"'\") \n",
    "'''"
   ]
  },
  {
   "cell_type": "markdown",
   "metadata": {},
   "source": [
    "<font color=red>No. 1025 : [기초-입출력] 정수 1개 입력받아 나누어 출력하기</font>"
   ]
  },
  {
   "cell_type": "code",
   "execution_count": 28,
   "metadata": {},
   "outputs": [
    {
     "name": "stdout",
     "output_type": "stream",
     "text": [
      "75254\n",
      "[70000]\n",
      "[5000]\n",
      "[200]\n",
      "[50]\n",
      "[4]\n"
     ]
    }
   ],
   "source": [
    "# No. 1025 : [기초-입출력] 정수 1개 입력받아 나누어 출력하기\n",
    "num = int(input())\n",
    "str_num = str(num)\n",
    "if len(str_num)!=5:\n",
    "    print(\"다섯자리로 이루어진 숫자를 입력해야 합니다.\")\n",
    "    import sys\n",
    "    sys.exit()\n",
    "for i in range(5):\n",
    "    print(\"[\"+str(int(str_num[i])*pow(10,4-i))+\"]\")\n",
    "## pow 혹은 ** (제곱이라는 뜻)"
   ]
  },
  {
   "cell_type": "markdown",
   "metadata": {},
   "source": [
    "<font color=red>No. 1026 : [기초-입출력] 시분초 입력받아 분만 출력하기</font>"
   ]
  },
  {
   "cell_type": "code",
   "execution_count": 29,
   "metadata": {},
   "outputs": [
    {
     "name": "stdout",
     "output_type": "stream",
     "text": [
      "17:23:57\n",
      "23\n"
     ]
    }
   ],
   "source": [
    "# No. 1026 : [기초-입출력] 시분초 입력받아 분만 출력하기\n",
    "h, m, s = map(int, input().split(\":\"))\n",
    "print(m)"
   ]
  },
  {
   "cell_type": "markdown",
   "metadata": {},
   "source": [
    "<font color=red>No. 1027 : [기초-입출력] 년월일 입력 받아 형식 바꿔 출력하기</font>"
   ]
  },
  {
   "cell_type": "code",
   "execution_count": 35,
   "metadata": {},
   "outputs": [
    {
     "name": "stdout",
     "output_type": "stream",
     "text": [
      "2014.07.15\n",
      "15-07-2014\n"
     ]
    }
   ],
   "source": [
    "# No. 1027 : [기초-입출력] 년월일 입력 받아 형식 바꿔 출력하기\n",
    "y, m, d = map(int, input().split(\".\"))\n",
    "print(\"%02d-%02d-%04d\"% (d, m, y))"
   ]
  },
  {
   "cell_type": "markdown",
   "metadata": {},
   "source": [
    "<font color=red>No. 1028 : [기초-데이터형] 정수 1개 입력받아 그대로 출력하기2</font>"
   ]
  },
  {
   "cell_type": "code",
   "execution_count": 36,
   "metadata": {
    "scrolled": true
   },
   "outputs": [
    {
     "name": "stdout",
     "output_type": "stream",
     "text": [
      "2147483648\n",
      "2147483648\n"
     ]
    }
   ],
   "source": [
    "# No. 1028 : [기초-데이터형] 정수 1개 입력받아 그대로 출력하기2\n",
    "num = int(input())\n",
    "print(num)"
   ]
  },
  {
   "cell_type": "markdown",
   "metadata": {},
   "source": [
    "<font color=red>No. 1029 : [기초-데이터형] 실수 1개 입력받아 그대로 출력하기2</font>"
   ]
  },
  {
   "cell_type": "code",
   "execution_count": 43,
   "metadata": {},
   "outputs": [
    {
     "name": "stdout",
     "output_type": "stream",
     "text": [
      "3.14159265359\n",
      "3.14159265359\n"
     ]
    }
   ],
   "source": [
    "# No. 1029 : [기초-데이터형] 실수 1개 입력받아 그대로 출력하기2\n",
    "num = float(input())\n",
    "print(\"%.11f\"%num)"
   ]
  },
  {
   "cell_type": "markdown",
   "metadata": {},
   "source": [
    "<font color=red>No. 1030 : [기초-데이터형] 정수 1개 입력받아 그대로 출력하기3</font>"
   ]
  },
  {
   "cell_type": "code",
   "execution_count": 44,
   "metadata": {},
   "outputs": [
    {
     "name": "stdout",
     "output_type": "stream",
     "text": [
      "-2147483649\n",
      "-2147483649\n"
     ]
    }
   ],
   "source": [
    "# No. 1030 : [기초-데이터형] 정수 1개 입력받아 그대로 출력하기3\n",
    "num = int(input())\n",
    "print(num)"
   ]
  },
  {
   "cell_type": "markdown",
   "metadata": {},
   "source": [
    "<font color=red>1031 : [기초-출력변환] 10진 정수 1개 입력받아 8진수로 출력하기</font>"
   ]
  },
  {
   "cell_type": "code",
   "execution_count": 3,
   "metadata": {},
   "outputs": [
    {
     "name": "stdout",
     "output_type": "stream",
     "text": [
      "10\n",
      "12\n"
     ]
    }
   ],
   "source": [
    "### 21.01.30\n",
    "# 1031 : [기초-출력변환] 10진 정수 1개 입력받아 8진수로 출력하기\n",
    "num = int(input())\n",
    "print(\"%0o\"% (num))"
   ]
  },
  {
   "cell_type": "markdown",
   "metadata": {},
   "source": [
    "<font color=red>1032 : [기초-출력변환] 10진 정수 입력받아 16진수로 출력하기1</font>"
   ]
  },
  {
   "cell_type": "code",
   "execution_count": 4,
   "metadata": {},
   "outputs": [
    {
     "name": "stdout",
     "output_type": "stream",
     "text": [
      "255\n",
      "ff\n"
     ]
    }
   ],
   "source": [
    "# 1032 : [기초-출력변환] 10진 정수 입력받아 16진수로 출력하기1\n",
    "num = int(input())\n",
    "print(\"%0x\" % num)"
   ]
  },
  {
   "cell_type": "markdown",
   "metadata": {},
   "source": [
    "<font color=red>1033 : [기초-출력변환] 10진 정수 입력받아 16진수로 출력하기2</font>"
   ]
  },
  {
   "cell_type": "code",
   "execution_count": 5,
   "metadata": {},
   "outputs": [
    {
     "name": "stdout",
     "output_type": "stream",
     "text": [
      "255\n",
      "FF\n"
     ]
    }
   ],
   "source": [
    "# 1033 : [기초-출력변환] 10진 정수 입력받아 16진수로 출력하기2\n",
    "num = int(input())\n",
    "print(\"%0X\" % num)"
   ]
  },
  {
   "cell_type": "markdown",
   "metadata": {},
   "source": [
    "<font color=red>1034 : [기초-출력변환] 8진 정수 1개 입력받아 10진수로 출력하기</font>"
   ]
  },
  {
   "cell_type": "code",
   "execution_count": 12,
   "metadata": {},
   "outputs": [
    {
     "name": "stdout",
     "output_type": "stream",
     "text": [
      "13\n",
      "11\n"
     ]
    }
   ],
   "source": [
    "# 1034 : [기초-출력변환] 8진 정수 1개 입력받아 10진수로 출력하기\n",
    "num = int(input(), 8)\n",
    "print(\"%0d\" % num)"
   ]
  },
  {
   "cell_type": "markdown",
   "metadata": {},
   "source": [
    "<font color=red>1035 : [기초-출력변환] 16진 정수 1개 입력받아 8진수로 출력하기</font>"
   ]
  },
  {
   "cell_type": "code",
   "execution_count": 13,
   "metadata": {},
   "outputs": [
    {
     "name": "stdout",
     "output_type": "stream",
     "text": [
      "f\n",
      "17\n"
     ]
    }
   ],
   "source": [
    "# 1035 : [기초-출력변환] 16진 정수 1개 입력받아 8진수로 출력하기\n",
    "num = int(input(), 16)\n",
    "print(\"%0o\" % num)"
   ]
  },
  {
   "cell_type": "markdown",
   "metadata": {},
   "source": [
    "<font color=red>1036 : [기초-출력변환] 영문자 1개 입력받아 10진수로 출력하기</font>"
   ]
  },
  {
   "cell_type": "code",
   "execution_count": 19,
   "metadata": {},
   "outputs": [
    {
     "name": "stdout",
     "output_type": "stream",
     "text": [
      "A\n",
      "65\n"
     ]
    }
   ],
   "source": [
    "# 1036 : [기초-출력변환] 영문자 1개 입력받아 10진수로 출력하기\n",
    "str = input()\n",
    "print(ord(str))"
   ]
  },
  {
   "cell_type": "markdown",
   "metadata": {},
   "source": [
    "<font color=red>1037 : [기초-출력변환] 정수 입력받아 아스키 문자로 출력하기</font>"
   ]
  },
  {
   "cell_type": "code",
   "execution_count": 21,
   "metadata": {},
   "outputs": [
    {
     "name": "stdout",
     "output_type": "stream",
     "text": [
      "65\n",
      "A\n"
     ]
    }
   ],
   "source": [
    "# 1037 : [기초-출력변환] 정수 입력받아 아스키 문자로 출력하기\n",
    "num = int(input())\n",
    "print(chr(num))"
   ]
  },
  {
   "cell_type": "markdown",
   "metadata": {},
   "source": [
    "<font color=red>1038 : [기초-산술연산] 정수 2개 입력받아 합 출력하기1</font>"
   ]
  },
  {
   "cell_type": "code",
   "execution_count": 23,
   "metadata": {},
   "outputs": [
    {
     "name": "stdout",
     "output_type": "stream",
     "text": [
      "123 -123\n",
      "0\n"
     ]
    }
   ],
   "source": [
    "# 1038 : [기초-산술연산] 정수 2개 입력받아 합 출력하기1\n",
    "a, b = map(int, input().split())\n",
    "print(a + b)"
   ]
  },
  {
   "cell_type": "markdown",
   "metadata": {},
   "source": [
    "<font color=red>1039 : [기초-산술연산] 정수 2개 입력받아 합 출력하기2</font>"
   ]
  },
  {
   "cell_type": "code",
   "execution_count": 24,
   "metadata": {},
   "outputs": [
    {
     "name": "stdout",
     "output_type": "stream",
     "text": [
      "2147483648 2147483648\n",
      "4294967296\n"
     ]
    }
   ],
   "source": [
    "# 1039 : [기초-산술연산] 정수 2개 입력받아 합 출력하기2\n",
    "a, b = map(int, input().split())\n",
    "print(a + b)"
   ]
  },
  {
   "cell_type": "markdown",
   "metadata": {},
   "source": [
    "<font color=red>1040 : [기초-산술연산] 정수 1개 입력받아 부호 바꿔 출력하기</font>"
   ]
  },
  {
   "cell_type": "code",
   "execution_count": 28,
   "metadata": {},
   "outputs": [
    {
     "name": "stdout",
     "output_type": "stream",
     "text": [
      "239\n",
      "-239\n"
     ]
    }
   ],
   "source": [
    "# 1040 : [기초-산술연산] 정수 1개 입력받아 부호 바꿔 출력하기\n",
    "num = int(input())\n",
    "print(-num)"
   ]
  },
  {
   "cell_type": "markdown",
   "metadata": {},
   "source": [
    "<font color=red></font>"
   ]
  },
  {
   "cell_type": "markdown",
   "metadata": {},
   "source": [
    "<font color=red>1041 : [기초-산술연산] 문자 1개 입력받아 다음 문자 출력하기</font>"
   ]
  },
  {
   "cell_type": "code",
   "execution_count": 31,
   "metadata": {},
   "outputs": [
    {
     "name": "stdout",
     "output_type": "stream",
     "text": [
      "a\n",
      "b\n"
     ]
    }
   ],
   "source": [
    "# 1041 : [기초-산술연산] 문자 1개 입력받아 다음 문자 출력하기\n",
    "str = input()\n",
    "print(chr(ord(str)+1))"
   ]
  },
  {
   "cell_type": "markdown",
   "metadata": {},
   "source": [
    "<font color=red>1042 : [기초-산술연산] 정수 2개 입력받아 나눈 몫 출력하기</font>"
   ]
  },
  {
   "cell_type": "code",
   "execution_count": 2,
   "metadata": {},
   "outputs": [
    {
     "name": "stdout",
     "output_type": "stream",
     "text": [
      "1 3\n",
      "0\n"
     ]
    }
   ],
   "source": [
    "## 21.02.01\n",
    "# 1042 : [기초-산술연산] 정수 2개 입력받아 나눈 몫 출력하기\n",
    "a, b = map(int, input().split(' '))\n",
    "print(int(a/b))"
   ]
  },
  {
   "cell_type": "markdown",
   "metadata": {},
   "source": [
    "<font color=red>1043 : [기초-산술연산] 정수 2개 입력받아 나눈 나머지 출력하기</font>"
   ]
  },
  {
   "cell_type": "code",
   "execution_count": 5,
   "metadata": {},
   "outputs": [
    {
     "name": "stdout",
     "output_type": "stream",
     "text": [
      "10 3\n",
      "1\n"
     ]
    }
   ],
   "source": [
    "# 1043 : [기초-산술연산] 정수 2개 입력받아 나눈 나머지 출력하기\n",
    "a, b = map(int, input().split(' '))\n",
    "print(a % b)"
   ]
  },
  {
   "cell_type": "markdown",
   "metadata": {},
   "source": [
    "<font color=red>1044 : [기초-산술연산] 정수 1개 입력받아 1 더해 출력하기</font>"
   ]
  },
  {
   "cell_type": "code",
   "execution_count": 6,
   "metadata": {},
   "outputs": [
    {
     "name": "stdout",
     "output_type": "stream",
     "text": [
      "2147483647\n",
      "2147483648\n"
     ]
    }
   ],
   "source": [
    "# 1044 : [기초-산술연산] 정수 1개 입력받아 1 더해 출력하기\n",
    "n = int(input())\n",
    "print(n + 1)"
   ]
  },
  {
   "cell_type": "markdown",
   "metadata": {},
   "source": [
    "<font color=red>1045 : [기초-산술연산] 정수 2개 입력받아 자동 계산하기</font>"
   ]
  },
  {
   "cell_type": "code",
   "execution_count": 9,
   "metadata": {},
   "outputs": [
    {
     "name": "stdout",
     "output_type": "stream",
     "text": [
      "10 3\n",
      "합: 13\n",
      "차: 7\n",
      "곱: 30\n",
      "몫: 3\n",
      "나머지: 1\n",
      "나눈 값(둘째자리): 3.33\n"
     ]
    }
   ],
   "source": [
    "# 1045 : [기초-산술연산] 정수 2개 입력받아 자동 계산하기\n",
    "a, b = map(int, input().split( ))\n",
    "print(f'합: {a + b}\\n차: {a - b}\\n곱: {a * b}\\n몫: {a // b}\\n나머지: {a % b}\\n나눈 값(둘째자리): {a / b :0.3}')"
   ]
  },
  {
   "cell_type": "markdown",
   "metadata": {},
   "source": [
    "<font color=red>1046 : [기초-산술연산] 정수 3개 입력받아 합과 평균 출력하기</font>"
   ]
  },
  {
   "cell_type": "code",
   "execution_count": 11,
   "metadata": {},
   "outputs": [
    {
     "name": "stdout",
     "output_type": "stream",
     "text": [
      "1 2 3\n",
      "합: 6\n",
      "평균: 2.0\n"
     ]
    }
   ],
   "source": [
    "# 1046 : [기초-산술연산] 정수 3개 입력받아 합과 평균 출력하기\n",
    "a, b, c = map(int, input().split(' '))\n",
    "print(f'합: {a + b + c}\\n평균: {((a + b + c) / 3):0.2}')"
   ]
  },
  {
   "cell_type": "markdown",
   "metadata": {},
   "source": [
    "<font color=red>1047 : [기초-비트시프트연산] 정수 1개 입력받아 2배 곱해 출력하기</font>"
   ]
  },
  {
   "cell_type": "code",
   "execution_count": 12,
   "metadata": {},
   "outputs": [
    {
     "name": "stdout",
     "output_type": "stream",
     "text": [
      "1024\n",
      "2048\n"
     ]
    }
   ],
   "source": [
    "# 1047 : [기초-비트시프트연산] 정수 1개 입력받아 2배 곱해 출력하기\n",
    "n = int(input())\n",
    "print(n << 1)"
   ]
  },
  {
   "cell_type": "markdown",
   "metadata": {},
   "source": [
    "<font color=red>1048 : [기초-비트시프트연산] 한 번에 2의 거듭제곱 배로 출력하기</font>"
   ]
  },
  {
   "cell_type": "code",
   "execution_count": 14,
   "metadata": {},
   "outputs": [
    {
     "name": "stdout",
     "output_type": "stream",
     "text": [
      "1 3\n",
      "8\n"
     ]
    }
   ],
   "source": [
    "# 1048 : [기초-비트시프트연산] 한 번에 2의 거듭제곱 배로 출력하기\n",
    "a, b = map(int, input().split(' '))\n",
    "print(a << b)"
   ]
  },
  {
   "cell_type": "markdown",
   "metadata": {},
   "source": [
    "<font color=red>1049 : [기초-비교연산] 두 정수 입력받아 비교하기1</font>"
   ]
  },
  {
   "cell_type": "code",
   "execution_count": 15,
   "metadata": {},
   "outputs": [
    {
     "name": "stdout",
     "output_type": "stream",
     "text": [
      "9 1\n",
      "1\n"
     ]
    }
   ],
   "source": [
    "# 1049 : [기초-비교연산] 두 정수 입력받아 비교하기1\n",
    "a, b = map(int, input().split(' '))\n",
    "if a > b:\n",
    "    print(1)\n",
    "else:\n",
    "    print(0)"
   ]
  },
  {
   "cell_type": "markdown",
   "metadata": {},
   "source": [
    "<font color=red>1050 : [기초-비교연산] 두 정수 입력받아 비교하기2</font>"
   ]
  },
  {
   "cell_type": "code",
   "execution_count": 16,
   "metadata": {},
   "outputs": [
    {
     "name": "stdout",
     "output_type": "stream",
     "text": [
      "0 0\n",
      "1\n"
     ]
    }
   ],
   "source": [
    "# 1050 : [기초-비교연산] 두 정수 입력받아 비교하기2\n",
    "a, b = map(int, input().split(' '))\n",
    "if a == b:\n",
    "    print(1)\n",
    "else:\n",
    "    print(0)"
   ]
  },
  {
   "cell_type": "markdown",
   "metadata": {},
   "source": [
    "<font color=red>1051 : [기초-비교연산] 두 정수 입력받아 비교하기3</font>"
   ]
  },
  {
   "cell_type": "code",
   "execution_count": 17,
   "metadata": {},
   "outputs": [
    {
     "name": "stdout",
     "output_type": "stream",
     "text": [
      "0 -1\n",
      "0\n"
     ]
    }
   ],
   "source": [
    "# 1051 : [기초-비교연산] 두 정수 입력받아 비교하기3\n",
    "a, b = map(int, input().split(' '))\n",
    "if b >= a:\n",
    "    print(1)\n",
    "else:\n",
    "    print(0)"
   ]
  },
  {
   "cell_type": "markdown",
   "metadata": {},
   "source": [
    "<font color=red>1052 : [기초-비교연산] 두 정수 입력받아 비교하기4</font>"
   ]
  },
  {
   "cell_type": "code",
   "execution_count": 1,
   "metadata": {},
   "outputs": [
    {
     "name": "stdout",
     "output_type": "stream",
     "text": [
      "0 1\n",
      "1\n"
     ]
    }
   ],
   "source": [
    "## 21.02.02\n",
    "# 1052 : [기초-비교연산] 두 정수 입력받아 비교하기4\n",
    "a, b = map(int, input().split(' '))\n",
    "if a!=b:\n",
    "    print(1)\n",
    "else:\n",
    "    print(0)"
   ]
  },
  {
   "cell_type": "markdown",
   "metadata": {},
   "source": [
    "<font color=red>1053 : [기초-논리연산] 참 거짓 바꾸기</font>"
   ]
  },
  {
   "cell_type": "code",
   "execution_count": 14,
   "metadata": {},
   "outputs": [
    {
     "name": "stdout",
     "output_type": "stream",
     "text": [
      "1\n",
      "0\n"
     ]
    }
   ],
   "source": [
    "# 1053 : [기초-논리연산] 참 거짓 바꾸기\n",
    "n = int(input())\n",
    "print(int(not(n)))"
   ]
  },
  {
   "cell_type": "markdown",
   "metadata": {},
   "source": [
    "<font color=red>1054 : [기초-논리연산] 둘 다 참일 경우만 참 출력하기</font>"
   ]
  },
  {
   "cell_type": "code",
   "execution_count": 28,
   "metadata": {},
   "outputs": [
    {
     "name": "stdout",
     "output_type": "stream",
     "text": [
      "1 1\n",
      "1\n"
     ]
    }
   ],
   "source": [
    "# 1054 : [기초-논리연산] 둘 다 참일 경우만 참 출력하기\n",
    "a, b = map(int, input().split(' '))\n",
    "if a & b:\n",
    "    print(1)\n",
    "else:\n",
    "    print(0)"
   ]
  },
  {
   "cell_type": "markdown",
   "metadata": {},
   "source": [
    "<font color=red></font>"
   ]
  },
  {
   "cell_type": "markdown",
   "metadata": {},
   "source": [
    "<font color=red>1055 : [기초-논리연산] 하나라도 참이면 참 출력하기</font>"
   ]
  },
  {
   "cell_type": "code",
   "execution_count": 27,
   "metadata": {},
   "outputs": [
    {
     "name": "stdout",
     "output_type": "stream",
     "text": [
      "1 1\n",
      "1\n"
     ]
    }
   ],
   "source": [
    "# 1055 : [기초-논리연산] 하나라도 참이면 참 출력하기\n",
    "a, b = map(int, input().split(' '))\n",
    "if a | b:\n",
    "    print(1)\n",
    "else:\n",
    "    print(0)"
   ]
  },
  {
   "cell_type": "markdown",
   "metadata": {},
   "source": [
    "<font color=red></font>"
   ]
  },
  {
   "cell_type": "markdown",
   "metadata": {},
   "source": [
    "<font color=red>1056 : [기초-논리연산] 참/거짓이 서로 다를 때에만 참 출력하기</font>"
   ]
  },
  {
   "cell_type": "code",
   "execution_count": 37,
   "metadata": {},
   "outputs": [
    {
     "name": "stdout",
     "output_type": "stream",
     "text": [
      "1 1\n",
      "0\n"
     ]
    }
   ],
   "source": [
    "# 1056 : [기초-논리연산] 참/거짓이 서로 다를 때에만 참 출력하기\n",
    "a, b = map(int, input().split(' '))\n",
    "if (a & int(not(b))) | (int(not(a)) & b):\n",
    "    print(1)\n",
    "else:\n",
    "    print(0)"
   ]
  },
  {
   "cell_type": "markdown",
   "metadata": {},
   "source": [
    "<font color=red>1057 : [기초-논리연산] 참/거짓이 서로 같을 때에만 참 출력하기</font>"
   ]
  },
  {
   "cell_type": "code",
   "execution_count": 41,
   "metadata": {},
   "outputs": [
    {
     "name": "stdout",
     "output_type": "stream",
     "text": [
      "0 0\n",
      "1\n"
     ]
    }
   ],
   "source": [
    "# 1057 : [기초-논리연산] 참/거짓이 서로 같을 때에만 참 출력하기\n",
    "a, b = map(int, input().split(' '))\n",
    "if (int(not(a)) & int(not(b))) | (a & b):\n",
    "    print(1)\n",
    "else:\n",
    "    print(0)"
   ]
  },
  {
   "cell_type": "markdown",
   "metadata": {},
   "source": [
    "<font color=red>1058 : [기초-논리연산] 둘 다 거짓일 경우만 참 출력하기</font>"
   ]
  },
  {
   "cell_type": "code",
   "execution_count": 42,
   "metadata": {},
   "outputs": [
    {
     "name": "stdout",
     "output_type": "stream",
     "text": [
      "0 1\n",
      "0\n"
     ]
    }
   ],
   "source": [
    "# 1058 : [기초-논리연산] 둘 다 거짓일 경우만 참 출력하기\n",
    "a, b = map(int, input().split(' '))\n",
    "if int(not(a))&int(not(b)):\n",
    "    print(1)\n",
    "else:\n",
    "    print(0)"
   ]
  },
  {
   "cell_type": "markdown",
   "metadata": {},
   "source": [
    "<font color=red>1059 : [기초-비트단위논리연산] 비트단위로 NOT 하여 출력하기</font>"
   ]
  },
  {
   "cell_type": "code",
   "execution_count": 45,
   "metadata": {},
   "outputs": [
    {
     "name": "stdout",
     "output_type": "stream",
     "text": [
      "2\n",
      "-3\n"
     ]
    }
   ],
   "source": [
    "# 1059 : [기초-비트단위논리연산] 비트단위로 NOT 하여 출력하기\n",
    "n = int(input())\n",
    "print(~n)"
   ]
  },
  {
   "cell_type": "markdown",
   "metadata": {},
   "source": [
    "<font color=red></font>"
   ]
  },
  {
   "cell_type": "markdown",
   "metadata": {},
   "source": [
    "<font color=red>1060 : [기초-비트단위논리연산] 비트단위로 AND 하여 출력하기</font>"
   ]
  },
  {
   "cell_type": "code",
   "execution_count": 46,
   "metadata": {
    "scrolled": true
   },
   "outputs": [
    {
     "name": "stdout",
     "output_type": "stream",
     "text": [
      "3 5\n",
      "1\n"
     ]
    }
   ],
   "source": [
    "# 1060 : [기초-비트단위논리연산] 비트단위로 AND 하여 출력하기\n",
    "a, b = map(int, input().split(' '))\n",
    "print(a&b)"
   ]
  },
  {
   "cell_type": "markdown",
   "metadata": {},
   "source": [
    "<font color=red>1061 : [기초-비트단위논리연산] 비트단위로 OR 하여 출력하기</font>"
   ]
  },
  {
   "cell_type": "code",
   "execution_count": 47,
   "metadata": {},
   "outputs": [
    {
     "name": "stdout",
     "output_type": "stream",
     "text": [
      "3 5\n",
      "7\n"
     ]
    }
   ],
   "source": [
    "# 1061 : [기초-비트단위논리연산] 비트단위로 OR 하여 출력하기\n",
    "a, b = map(int, input().split(' '))\n",
    "print(a|b)"
   ]
  },
  {
   "cell_type": "markdown",
   "metadata": {},
   "source": [
    "<font color=red>1062 : [기초-비트단위논리연산] 비트단위로 XOR 하여 출력하기</font>"
   ]
  },
  {
   "cell_type": "code",
   "execution_count": 1,
   "metadata": {},
   "outputs": [
    {
     "name": "stdout",
     "output_type": "stream",
     "text": [
      "3 5\n",
      "6\n"
     ]
    }
   ],
   "source": [
    "## 21.02.08\n",
    "# 1062 : [기초-비트단위논리연산] 비트단위로 XOR 하여 출력하기\n",
    "a, b = map(int, input().split(' '))\n",
    "print(a^b)"
   ]
  },
  {
   "cell_type": "markdown",
   "metadata": {},
   "source": [
    "<font color=red>1063 : [기초-삼항연산] 두 정수 입력받아 큰 수 출력하기</font>"
   ]
  },
  {
   "cell_type": "code",
   "execution_count": 3,
   "metadata": {},
   "outputs": [
    {
     "name": "stdout",
     "output_type": "stream",
     "text": [
      "123 456\n",
      "456\n"
     ]
    }
   ],
   "source": [
    "# 1063 : [기초-삼항연산] 두 정수 입력받아 큰 수 출력하기\n",
    "a, b = map(int, input().split(' '))\n",
    "print(\"%d\" % a if a>b else b)\n",
    "'''\n",
    "대부분의 언어에서는 아래 형태의 삼항 연산자를 지원합니다.\n",
    "\n",
    "condition(조건)이 참이면 true_value 값을 취하고 거짓이면 false_value 값을 취합니다.\n",
    "\n",
    "[condition] ? [true_value] : [false_value] // 파이썬 미지원\n",
    "\n",
    "\n",
    "파이썬에서 위 형태를 지원하지 않고 아래 형태를 지원합니다.\n",
    "\n",
    "[true_value] if [condition] else [false_value] // 파이썬 지원\n",
    "'''"
   ]
  },
  {
   "cell_type": "markdown",
   "metadata": {},
   "source": [
    "<font color=red>1064 : [기초-삼항연산] 정수 3개 입력받아 가장 작은 수 출력하기</font>"
   ]
  },
  {
   "cell_type": "code",
   "execution_count": 4,
   "metadata": {},
   "outputs": [
    {
     "name": "stdout",
     "output_type": "stream",
     "text": [
      "3 -1 5\n",
      "-1\n"
     ]
    }
   ],
   "source": [
    "# 1064 : [기초-삼항연산] 정수 3개 입력받아 가장 작은 수 출력하기\n",
    "a, b, c = map(int, input().split(' '))\n",
    "print(\"%d\" % ((a if a<b else b) if (a if a<b else b)<c else c))"
   ]
  },
  {
   "cell_type": "markdown",
   "metadata": {},
   "source": [
    "<font color=red>1065 : [기초-조건/선택실행구조] 정수 3개 입력받아 짝수만 출력하기</font>"
   ]
  },
  {
   "cell_type": "code",
   "execution_count": 5,
   "metadata": {},
   "outputs": [
    {
     "name": "stdout",
     "output_type": "stream",
     "text": [
      "1 2 4\n",
      "2\n",
      "4\n"
     ]
    }
   ],
   "source": [
    "# 1065 : [기초-조건/선택실행구조] 정수 3개 입력받아 짝수만 출력하기\n",
    "a, b, c = map(int, input().split(' '))\n",
    "if a%2 == 0: print(a)\n",
    "if b%2 == 0: print(b)\n",
    "if c%2 == 0: print(c)"
   ]
  },
  {
   "cell_type": "markdown",
   "metadata": {},
   "source": [
    "<font color=red>1066 : [기초-조건/선택실행구조] 정수 3개 입력받아 짝/홀 출력하기</font>"
   ]
  },
  {
   "cell_type": "code",
   "execution_count": 8,
   "metadata": {},
   "outputs": [
    {
     "name": "stdout",
     "output_type": "stream",
     "text": [
      "1 2 8\n",
      "odd\n",
      "even\n",
      "even\n"
     ]
    }
   ],
   "source": [
    "# 1066 : [기초-조건/선택실행구조] 정수 3개 입력받아 짝/홀 출력하기\n",
    "a, b, c = map(int, input().split(' '))\n",
    "if a%2 == 0: \n",
    "    print(\"even\")\n",
    "else:\n",
    "    print(\"odd\")\n",
    "    \n",
    "if b%2 == 0: \n",
    "    print(\"even\")\n",
    "else:\n",
    "    print(\"odd\")\n",
    "    \n",
    "if c%2 == 0: \n",
    "    print(\"even\")\n",
    "else:\n",
    "    print(\"odd\")"
   ]
  },
  {
   "cell_type": "markdown",
   "metadata": {},
   "source": [
    "<font color=red>1067 : [기초-조건/선택실행구조] 정수 1개 입력받아 분석하기</font>"
   ]
  },
  {
   "cell_type": "code",
   "execution_count": 9,
   "metadata": {},
   "outputs": [
    {
     "name": "stdout",
     "output_type": "stream",
     "text": [
      "-2147483648\n",
      "minus\n",
      "even\n"
     ]
    }
   ],
   "source": [
    "# 1067 : [기초-조건/선택실행구조] 정수 1개 입력받아 분석하기\n",
    "num = int(input())\n",
    "if num > 0:\n",
    "    print(\"plus\")\n",
    "else:\n",
    "    print(\"minus\")\n",
    "\n",
    "if num % 2 == 0:\n",
    "    print(\"even\")\n",
    "else:\n",
    "    print(\"odd\")"
   ]
  },
  {
   "cell_type": "markdown",
   "metadata": {},
   "source": [
    "<font color=red>1068 : [기초-조건/선택실행구조] 정수 1개 입력받아 평가 출력하기</font>"
   ]
  },
  {
   "cell_type": "code",
   "execution_count": 10,
   "metadata": {},
   "outputs": [
    {
     "name": "stdout",
     "output_type": "stream",
     "text": [
      "73\n",
      "B\n"
     ]
    }
   ],
   "source": [
    "# 1068 : [기초-조건/선택실행구조] 정수 1개 입력받아 평가 출력하기\n",
    "score = int(input())\n",
    "if score <= 39:\n",
    "    print(\"D\")\n",
    "elif score <= 69:\n",
    "    print(\"C\")\n",
    "elif score <= 89:\n",
    "    print(\"B\")\n",
    "else:\n",
    "    print(\"A\")"
   ]
  },
  {
   "cell_type": "markdown",
   "metadata": {},
   "source": [
    "<font color=red>1069 : [기초-조건/선택실행구조] 평가 입력받아 다르게 출력하기</font>"
   ]
  },
  {
   "cell_type": "code",
   "execution_count": 13,
   "metadata": {},
   "outputs": [
    {
     "name": "stdout",
     "output_type": "stream",
     "text": [
      "A\n",
      "best!!!\n"
     ]
    }
   ],
   "source": [
    "# 1069 : [기초-조건/선택실행구조] 평가 입력받아 다르게 출력하기\n",
    "evaluation = input()\n",
    "# 파이썬에는 switch-cas문 없음\n",
    "if evaluation == \"A\":\n",
    "    print(\"best!!!\")\n",
    "elif evaluation == \"B\":\n",
    "    print(\"good!!\")\n",
    "elif evaluation == \"C\":\n",
    "    print(\"run!\")\n",
    "elif evaluation == \"D\":\n",
    "    print(\"slowly\")\n",
    "else:\n",
    "    print(\"what?\")"
   ]
  },
  {
   "cell_type": "markdown",
   "metadata": {},
   "source": [
    "<font color=red>1070 : [기초-조건/선택실행구조] 월 입력받아 계절 출력하기</font>"
   ]
  },
  {
   "cell_type": "code",
   "execution_count": 33,
   "metadata": {},
   "outputs": [
    {
     "name": "stdout",
     "output_type": "stream",
     "text": [
      "12\n",
      "winter\n"
     ]
    }
   ],
   "source": [
    "# 1070 : [기초-조건/선택실행구조] 월 입력받아 계절 출력하기\n",
    "month = int(input())\n",
    "# 파이썬에는 switch-case문 없음\n",
    "# 논리 연산자는 and, or, not이다.\n",
    "if month <= 2 or month == 12:\n",
    "    print(\"winter\")\n",
    "elif month <= 5:\n",
    "    print(\"spring\")\n",
    "elif month <= 8:\n",
    "    print(\"summer\")\n",
    "elif month <= 11:\n",
    "    print(\"fall\")"
   ]
  },
  {
   "cell_type": "markdown",
   "metadata": {},
   "source": [
    "<font color=red></font>"
   ]
  },
  {
   "cell_type": "markdown",
   "metadata": {},
   "source": [
    "<font color=red>1071 : [기초-반복실행구조] 0 입력될 때까지 무한 출력하기1</font>"
   ]
  },
  {
   "cell_type": "code",
   "execution_count": 34,
   "metadata": {},
   "outputs": [
    {
     "name": "stdout",
     "output_type": "stream",
     "text": [
      "7 4 2 3 0 1 5 6 9 10 8\n",
      "7\n",
      "4\n",
      "2\n",
      "3\n"
     ]
    }
   ],
   "source": [
    "# 1071 : [기초-반복실행구조] 0 입력될 때까지 무한 출력하기1\n",
    "nums = map(int, input().split(' '))\n",
    "for i in nums:\n",
    "    if i==0:\n",
    "        break\n",
    "    print(i)"
   ]
  },
  {
   "cell_type": "code",
   "execution_count": null,
   "metadata": {},
   "outputs": [],
   "source": []
  }
 ],
 "metadata": {
  "kernelspec": {
   "display_name": "Python 3",
   "language": "python",
   "name": "python3"
  },
  "language_info": {
   "codemirror_mode": {
    "name": "ipython",
    "version": 3
   },
   "file_extension": ".py",
   "mimetype": "text/x-python",
   "name": "python",
   "nbconvert_exporter": "python",
   "pygments_lexer": "ipython3",
   "version": "3.7.6"
  }
 },
 "nbformat": 4,
 "nbformat_minor": 4
}