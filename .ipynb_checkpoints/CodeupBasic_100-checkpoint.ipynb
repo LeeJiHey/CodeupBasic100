{
 "cells": [
  {
   "cell_type": "markdown",
   "metadata": {},
   "source": [
    "# Codeup Basic 100\n",
    "-> https://codeup.kr/problemsetsol.php?psid=23  \n",
    "\n",
    "#### Start date: Wednesday 30 December 2020"
   ]
  },
  {
   "cell_type": "markdown",
   "metadata": {},
   "source": [
    "<font color=red>No. 1001 : [기초-출력] 출력하기01</font>"
   ]
  },
  {
   "cell_type": "code",
   "execution_count": 1,
   "metadata": {},
   "outputs": [
    {
     "name": "stdout",
     "output_type": "stream",
     "text": [
      "Hello\n"
     ]
    }
   ],
   "source": [
    "# No. 1001 : [기초-출력] 출력하기01\n",
    "print(\"Hello\")"
   ]
  },
  {
   "cell_type": "markdown",
   "metadata": {},
   "source": [
    "<font color=red>No. 1002 : [기초-출력] 출력하기02</font>"
   ]
  },
  {
   "cell_type": "code",
   "execution_count": 2,
   "metadata": {},
   "outputs": [
    {
     "name": "stdout",
     "output_type": "stream",
     "text": [
      "Hello World\n"
     ]
    }
   ],
   "source": [
    "# No. 1002 : [기초-출력] 출력하기02\n",
    "print(\"Hello World\")"
   ]
  },
  {
   "cell_type": "markdown",
   "metadata": {},
   "source": [
    "<font color=red>No. 1003 : [기초-출력] 출력하기03</font>"
   ]
  },
  {
   "cell_type": "code",
   "execution_count": 3,
   "metadata": {},
   "outputs": [
    {
     "name": "stdout",
     "output_type": "stream",
     "text": [
      "Hello\n",
      "World\n"
     ]
    }
   ],
   "source": [
    "# No. 1003 : [기초-출력] 출력하기03\n",
    "print(\"Hello\\nWorld\")"
   ]
  },
  {
   "cell_type": "markdown",
   "metadata": {},
   "source": [
    "<font color=red>No. 1004 : [기초-출력] 출력하기04</font>"
   ]
  },
  {
   "cell_type": "code",
   "execution_count": 4,
   "metadata": {},
   "outputs": [
    {
     "name": "stdout",
     "output_type": "stream",
     "text": [
      "'Hello'\n"
     ]
    }
   ],
   "source": [
    "# No. 1004 : [기초-출력] 출력하기04\n",
    "print(\"\\'Hello\\'\")"
   ]
  },
  {
   "cell_type": "markdown",
   "metadata": {},
   "source": [
    "<font color=red>No. 1005 : [기초-출력] 출력하기05</font>"
   ]
  },
  {
   "cell_type": "code",
   "execution_count": 5,
   "metadata": {},
   "outputs": [
    {
     "name": "stdout",
     "output_type": "stream",
     "text": [
      "\"Hello World\"\n"
     ]
    }
   ],
   "source": [
    "# No. 1005 : [기초-출력] 출력하기05\n",
    "print(\"\\\"Hello World\\\"\")"
   ]
  },
  {
   "cell_type": "markdown",
   "metadata": {},
   "source": [
    "<font color=red>No. 1006 : [기초-출력] 출력하기06</font>"
   ]
  },
  {
   "cell_type": "code",
   "execution_count": 6,
   "metadata": {},
   "outputs": [
    {
     "name": "stdout",
     "output_type": "stream",
     "text": [
      "\"!@#$%^&*()\"\n"
     ]
    }
   ],
   "source": [
    "# No. 1006 : [기초-출력] 출력하기06\n",
    "print(\"\\\"!@#$%^&*()\\\"\")"
   ]
  },
  {
   "cell_type": "markdown",
   "metadata": {},
   "source": [
    "<font color=red>No. 1007 : [기초-출력] 출력하기07</font>"
   ]
  },
  {
   "cell_type": "code",
   "execution_count": 7,
   "metadata": {},
   "outputs": [
    {
     "name": "stdout",
     "output_type": "stream",
     "text": [
      "\"C:\\Download\\hello.cpp\"\n"
     ]
    }
   ],
   "source": [
    "# No. 1007 : [기초-출력] 출력하기07\n",
    "print(\"\\\"C:\\Download\\hello.cpp\\\"\")"
   ]
  },
  {
   "cell_type": "markdown",
   "metadata": {},
   "source": [
    "<font color=red>No. 1008 : [기초-출력] 출력하기08</font>"
   ]
  },
  {
   "cell_type": "code",
   "execution_count": 8,
   "metadata": {},
   "outputs": [
    {
     "name": "stdout",
     "output_type": "stream",
     "text": [
      "┌┬┐\n",
      "├┼┤\n",
      "└┴┘\n"
     ]
    }
   ],
   "source": [
    "# No. 1008 : [기초-출력] 출력하기08\n",
    "print(\"\\u250C\\u252C\\u2510\\n\\u251C\\u253C\\u2524\\n\\u2514\\u2534\\u2518\")"
   ]
  },
  {
   "cell_type": "markdown",
   "metadata": {},
   "source": [
    "<font color=red>No. 1010 : [기초-입출력] 정수 1개 입력받아 그대로 출력하기</font>"
   ]
  },
  {
   "cell_type": "code",
   "execution_count": 9,
   "metadata": {},
   "outputs": [
    {
     "name": "stdout",
     "output_type": "stream",
     "text": [
      "5\n",
      "5\n"
     ]
    }
   ],
   "source": [
    "# No. 1010 : [기초-입출력] 정수 1개 입력받아 그대로 출력하기\n",
    "n = int(input())\n",
    "print(n)"
   ]
  },
  {
   "cell_type": "markdown",
   "metadata": {},
   "source": [
    "<font color=red>No. 1011 : [기초-입출력] 문자 1개 입력받아 그대로 출력하기</font>"
   ]
  },
  {
   "cell_type": "code",
   "execution_count": 10,
   "metadata": {},
   "outputs": [
    {
     "name": "stdout",
     "output_type": "stream",
     "text": [
      "a\n",
      "a\n"
     ]
    }
   ],
   "source": [
    "# No. 1011 : [기초-입출력] 문자 1개 입력받아 그대로 출력하기\n",
    "c = str(input())\n",
    "print(c)"
   ]
  },
  {
   "cell_type": "markdown",
   "metadata": {},
   "source": [
    "<font color=red>No. 1012 : [기초-입출력] 실수 1개 입력받아 그대로 출력하기</font>"
   ]
  },
  {
   "cell_type": "code",
   "execution_count": 11,
   "metadata": {},
   "outputs": [
    {
     "name": "stdout",
     "output_type": "stream",
     "text": [
      "1.5\n",
      "1.5\n"
     ]
    }
   ],
   "source": [
    "# No. 1012 : [기초-입출력] 실수 1개 입력받아 그대로 출력하기\n",
    "f = float(input())\n",
    "print(f)"
   ]
  },
  {
   "cell_type": "markdown",
   "metadata": {},
   "source": [
    "<font color=red>No. 1013 : [기초-입출력] 정수 2개 입력받아 그대로 출력하기</font>"
   ]
  },
  {
   "cell_type": "code",
   "execution_count": 12,
   "metadata": {},
   "outputs": [
    {
     "name": "stdout",
     "output_type": "stream",
     "text": [
      "3 4\n",
      "3 4\n"
     ]
    }
   ],
   "source": [
    "# No. 1013 : [기초-입출력] 정수 2개 입력받아 그대로 출력하기\n",
    "a, b = map(int, input().split())\n",
    "print(a, b)"
   ]
  },
  {
   "cell_type": "markdown",
   "metadata": {},
   "source": [
    "<font color=red>No. 1014 : [기초-입출력] 문자 2개 입력받아 순서 바꿔 출력하기</font>"
   ]
  },
  {
   "cell_type": "code",
   "execution_count": 2,
   "metadata": {},
   "outputs": [
    {
     "name": "stdout",
     "output_type": "stream",
     "text": [
      "A b\n",
      "b A\n"
     ]
    }
   ],
   "source": [
    "# 21.1.1\n",
    "# No. 1014 : [기초-입출력] 문자 2개 입력받아 순서 바꿔 출력하기\n",
    "a, b = input().split()\n",
    "print(b, a)"
   ]
  },
  {
   "cell_type": "markdown",
   "metadata": {},
   "source": [
    "<font color=red>No. 1015 : [기초-입출력] 실수 입력받아 둘째 자리까지 출력하기</font>"
   ]
  },
  {
   "cell_type": "code",
   "execution_count": 30,
   "metadata": {},
   "outputs": [
    {
     "name": "stdout",
     "output_type": "stream",
     "text": [
      "3.149\n",
      "3.15\n",
      "3.15\n"
     ]
    }
   ],
   "source": [
    "# No. 1015 : [기초-입출력] 실수 입력받아 둘째 자리까지 출력하기\n",
    "f = float(input())\n",
    "print(round(f,2))\n",
    "print('%.2f'%f)"
   ]
  },
  {
   "cell_type": "markdown",
   "metadata": {},
   "source": [
    "<font color=red>No. 1017 : [기초-입출력] 정수 1개 입력받아 3번 출력하기</font>"
   ]
  },
  {
   "cell_type": "code",
   "execution_count": 10,
   "metadata": {},
   "outputs": [
    {
     "name": "stdout",
     "output_type": "stream",
     "text": [
      "125\n",
      "125 125 125\n"
     ]
    }
   ],
   "source": [
    "# No. 1017 : [기초-입출력] 정수 1개 입력받아 3번 출력하기\n",
    "n = int(input())\n",
    "print(n, n, n)"
   ]
  },
  {
   "cell_type": "markdown",
   "metadata": {},
   "source": [
    "<font color=red>No. 1018 : [기초-입출력] 시간 입력받아 그대로 출력하기</font>"
   ]
  },
  {
   "cell_type": "code",
   "execution_count": 33,
   "metadata": {},
   "outputs": [
    {
     "name": "stdout",
     "output_type": "stream",
     "text": [
      "3:16\n",
      "3:16\n",
      "3:16\n"
     ]
    }
   ],
   "source": [
    "# No. 1018 : [기초-입출력] 시간 입력받아 그대로 출력하기\n",
    "h, m = map(int, input().split(\":\"))\n",
    "print(str(h)+\":\"+str(m))\n",
    "print('%d:%d' % (h, m))"
   ]
  },
  {
   "cell_type": "markdown",
   "metadata": {},
   "source": [
    "<font color=red>No. 1019 : [기초-입출력] 시간 입력받아 그대로 출력하기</font>"
   ]
  },
  {
   "cell_type": "code",
   "execution_count": 35,
   "metadata": {},
   "outputs": [
    {
     "name": "stdout",
     "output_type": "stream",
     "text": [
      "2021.1.2\n",
      "2021.01.02\n",
      "2021.01.02\n"
     ]
    }
   ],
   "source": [
    "# No. 1019 : [기초-입출력] 시간 입력받아 그대로 출력하기\n",
    "y, m, d = map(int, input().split(\".\"))\n",
    "print(str(y) + \".\" +'%02d' % m + \".\" + '%02d' % d)\n",
    "print('%d.%02d.%0.2d' % (y, m, d))"
   ]
  },
  {
   "cell_type": "markdown",
   "metadata": {},
   "source": [
    "<font color=red>No. 1020 : [기초-입출력] 주민번호 입력받아 형태 바꿔 출력하기</font>"
   ]
  },
  {
   "cell_type": "code",
   "execution_count": 21,
   "metadata": {},
   "outputs": [
    {
     "name": "stdout",
     "output_type": "stream",
     "text": [
      "000907-1121112\n",
      "0009071121112\n"
     ]
    }
   ],
   "source": [
    "# No. 1020 : [기초-입출력] 주민번호 입력받아 형태 바꿔 출력하기\n",
    "frontNum, backNum = input().split(\"-\")\n",
    "print(frontNum + backNum)"
   ]
  },
  {
   "cell_type": "markdown",
   "metadata": {},
   "source": [
    "<font color=red>No. 1021 : [기초-입출력] 단어 1개 입력받아 그대로 출력하기</font>"
   ]
  },
  {
   "cell_type": "code",
   "execution_count": 17,
   "metadata": {},
   "outputs": [
    {
     "name": "stdout",
     "output_type": "stream",
     "text": [
      "Informatics\n",
      "Informatics\n"
     ]
    }
   ],
   "source": [
    "# No. 1021 : [기초-입출력] 단어 1개 입력받아 그대로 출력하기\n",
    "word = input()\n",
    "print(word)"
   ]
  },
  {
   "cell_type": "code",
   "execution_count": null,
   "metadata": {},
   "outputs": [],
   "source": []
  }
 ],
 "metadata": {
  "kernelspec": {
   "display_name": "Python 3",
   "language": "python",
   "name": "python3"
  },
  "language_info": {
   "codemirror_mode": {
    "name": "ipython",
    "version": 3
   },
   "file_extension": ".py",
   "mimetype": "text/x-python",
   "name": "python",
   "nbconvert_exporter": "python",
   "pygments_lexer": "ipython3",
   "version": "3.7.6"
  }
 },
 "nbformat": 4,
 "nbformat_minor": 4
}
